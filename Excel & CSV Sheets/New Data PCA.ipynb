{
 "cells": [
  {
   "cell_type": "code",
   "execution_count": 29,
   "metadata": {},
   "outputs": [],
   "source": [
    "import pandas as pd\n",
    "from sklearn.decomposition import PCA\n",
    "import matplotlib.pyplot as plt\n",
    "import numpy as np"
   ]
  },
  {
   "cell_type": "code",
   "execution_count": 30,
   "metadata": {},
   "outputs": [
    {
     "name": "stderr",
     "output_type": "stream",
     "text": [
      "/Users/alnouralharin/anaconda3/lib/python3.7/site-packages/IPython/core/interactiveshell.py:3020: DtypeWarning: Columns (10,26) have mixed types. Specify dtype option on import or set low_memory=False.\n",
      "  interactivity=interactivity, compiler=compiler, result=result)\n"
     ]
    }
   ],
   "source": [
    "raw_data = pd.read_csv(\"Full Data Unix.csv\")"
   ]
  },
  {
   "cell_type": "code",
   "execution_count": 31,
   "metadata": {},
   "outputs": [
    {
     "data": {
      "text/plain": [
       "Index(['Unnamed: 0', 'Unnamed: 0.1', 'Accident', 'Latitude', 'Longitude',\n",
       "       'Date', 'Time', 'Address', 'Route', 'Log_Mile', 'City', 'Hour',\n",
       "       'Temperature', 'Temp_Max', 'Temp_Min', 'Daily_Avg_Temp',\n",
       "       'Monthly_Avg_Temp', 'Relative_Temp', 'Dewpoint', 'Humidity', 'Month',\n",
       "       'Weekday', 'Visibility', 'Cloud_Coverage', 'Precipitation_Intensity',\n",
       "       'Precip_Intensity_Max', 'Precip_Intensity_Time', 'Clear', 'Cloudy',\n",
       "       'Rain', 'Fog', 'Snow', 'RainBefore', 'Terrain', 'Land_Use',\n",
       "       'Access_Control', 'Illumination', 'Operation', 'Speed_Limit',\n",
       "       'Thru_Lanes', 'Num_Lanes', 'Ad_Sys', 'Gov_Cont', 'Func_Class', 'AADT',\n",
       "       'DHV', 'Pavement_Width', 'Pavement_Type', 'Unix'],\n",
       "      dtype='object')"
      ]
     },
     "execution_count": 31,
     "metadata": {},
     "output_type": "execute_result"
    }
   ],
   "source": [
    "raw_data.columns"
   ]
  },
  {
   "cell_type": "code",
   "execution_count": 62,
   "metadata": {},
   "outputs": [],
   "source": [
    "etirms_cols = ['Accident', 'Snow', 'RainBefore', 'Terrain', 'Land_Use',\n",
    "       'Access_Control', 'Illumination', 'Operation', 'Speed_Limit',\n",
    "       'Thru_Lanes', 'Num_Lanes', 'Ad_Sys', 'Gov_Cont', 'Func_Class', 'AADT',\n",
    "       'DHV']\n",
    "dark_sky_cols = ['Accident', 'Visibility', 'Cloud_Coverage', 'Precipitation_Intensity',\n",
    "       'Precip_Intensity_Max', 'Clear', 'Cloudy',\n",
    "       'Rain', 'Fog', 'Snow', 'RainBefore', 'Temperature', 'Temp_Max', 'Temp_Min', 'Daily_Avg_Temp',\n",
    "       'Monthly_Avg_Temp', 'Relative_Temp', 'Dewpoint', 'Humidity']\n",
    "time_loc_cols = ['Accident', 'Latitude', 'Longitude', 'Hour', 'Pavement_Width', 'Pavement_Type', 'Unix', 'Month',\n",
    "       'Weekday']"
   ]
  },
  {
   "cell_type": "code",
   "execution_count": 63,
   "metadata": {},
   "outputs": [],
   "source": [
    "etirms_data = raw_data[etirms_cols]\n",
    "dark_sky_data = raw_data[dark_sky_cols]\n",
    "time_loc_data = raw_data[time_loc_cols]"
   ]
  },
  {
   "cell_type": "code",
   "execution_count": 64,
   "metadata": {},
   "outputs": [],
   "source": [
    "def preprocess_data(data):\n",
    "    Y = data['Accident']\n",
    "    X = data.drop('Accident', axis=1)\n",
    "    X = X.values\n",
    "    pca = PCA(n_components=2)\n",
    "    pca.fit(X)\n",
    "    reduced_dimentions = pca.transform(X)\n",
    "    reduced_dimentions = np.array(reduced_dimentions)\n",
    "    X_true_accidents = reduced_dimentions[Y==1]\n",
    "    X_non_accidents = reduced_dimentions[Y==0]\n",
    "    print(\"variation captured by two dimensions is: \", pca.explained_variance_ratio_)\n",
    "    return X_true_accidents, X_non_accidents"
   ]
  },
  {
   "cell_type": "code",
   "execution_count": null,
   "metadata": {},
   "outputs": [],
   "source": [
    "def scatter_sub_data()"
   ]
  },
  {
   "cell_type": "code",
   "execution_count": 65,
   "metadata": {},
   "outputs": [
    {
     "name": "stdout",
     "output_type": "stream",
     "text": [
      "variation captured by two dimensions is:  [9.99999603e-01 3.36549117e-07]\n"
     ]
    }
   ],
   "source": [
    "etirms_pos, etirms_neg = preprocess_data(etirms_data.fillna(0))"
   ]
  },
  {
   "cell_type": "code",
   "execution_count": 69,
   "metadata": {},
   "outputs": [
    {
     "data": {
      "text/plain": [
       "array([[-2.36370089e+04,  3.84566855e+01],\n",
       "       [ 4.91430050e+04, -1.20243471e+01],\n",
       "       [-6.36700045e+03,  4.50816826e-01],\n",
       "       ...,\n",
       "       [-2.36370066e+04,  2.77072781e+01],\n",
       "       [-1.77369982e+04, -1.21004947e+01],\n",
       "       [-1.77369982e+04, -1.21004947e+01]])"
      ]
     },
     "execution_count": 69,
     "metadata": {},
     "output_type": "execute_result"
    }
   ],
   "source": []
  },
  {
   "cell_type": "code",
   "execution_count": 66,
   "metadata": {},
   "outputs": [
    {
     "name": "stdout",
     "output_type": "stream",
     "text": [
      "variation captured by two dimensions is:  [0.6502931  0.31103956]\n"
     ]
    }
   ],
   "source": [
    "dark_pos, dark_neg = preprocess_data(dark_sky_data.fillna(0))"
   ]
  },
  {
   "cell_type": "code",
   "execution_count": 67,
   "metadata": {},
   "outputs": [
    {
     "name": "stdout",
     "output_type": "stream",
     "text": [
      "variation captured by two dimensions is:  [1.00000000e+00 2.50433808e-13]\n"
     ]
    }
   ],
   "source": [
    "time_pos, time_neg = preprocess_data(time_loc_data.fillna(0))"
   ]
  },
  {
   "cell_type": "code",
   "execution_count": null,
   "metadata": {},
   "outputs": [],
   "source": []
  }
 ],
 "metadata": {
  "kernelspec": {
   "display_name": "Python 3",
   "language": "python",
   "name": "python3"
  },
  "language_info": {
   "codemirror_mode": {
    "name": "ipython",
    "version": 3
   },
   "file_extension": ".py",
   "mimetype": "text/x-python",
   "name": "python",
   "nbconvert_exporter": "python",
   "pygments_lexer": "ipython3",
   "version": "3.7.1"
  }
 },
 "nbformat": 4,
 "nbformat_minor": 2
}
