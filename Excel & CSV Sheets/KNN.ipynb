{
 "cells": [
  {
   "cell_type": "code",
   "execution_count": 1,
   "metadata": {},
   "outputs": [],
   "source": [
    "import pandas as pd\n",
    "from sklearn.decomposition import PCA\n",
    "import matplotlib.pyplot as plt\n",
    "import numpy as np"
   ]
  },
  {
   "cell_type": "code",
   "execution_count": 2,
   "metadata": {},
   "outputs": [],
   "source": [
    "data = pd.read_csv(\"Full Data for Model.csv\")"
   ]
  },
  {
   "cell_type": "code",
   "execution_count": 31,
   "metadata": {},
   "outputs": [
    {
     "data": {
      "text/plain": [
       "Index(['Accident', 'Log_Mile', 'Hour', 'Temperature', 'Temp_Max', 'Temp_Min',\n",
       "       'Dewpoint', 'Humidity', 'Month', 'Weekday', 'Visibility',\n",
       "       'Cloud_Coverage', 'Precipitation_Intensity', 'Precip_Intensity_Max',\n",
       "       'Clear', 'Cloudy', 'Rain', 'Fog', 'Snow', 'RainBefore', 'Terrain',\n",
       "       'Land_Use', 'Access_Control', 'Operation', 'Thru_Lanes', 'Num_Lanes',\n",
       "       'Ad_Sys', 'Gov_Cont', 'Func_Class', 'Pavement_Width', 'Pavement_Type'],\n",
       "      dtype='object')"
      ]
     },
     "execution_count": 31,
     "metadata": {},
     "output_type": "execute_result"
    }
   ],
   "source": [
    "data.columns"
   ]
  },
  {
   "cell_type": "code",
   "execution_count": 42,
   "metadata": {},
   "outputs": [],
   "source": [
    "raw_data = pd.read_csv(\"Full Data.csv\", dtype=str)"
   ]
  },
  {
   "cell_type": "code",
   "execution_count": null,
   "metadata": {},
   "outputs": [],
   "source": [
    "raw/_"
   ]
  },
  {
   "cell_type": "code",
   "execution_count": 6,
   "metadata": {},
   "outputs": [
    {
     "data": {
      "text/plain": [
       "Index(['Unnamed: 0', 'Accident', 'Latitude', 'Longitude', 'Date', 'Time',\n",
       "       'Address', 'Route', 'Log_Mile', 'City', 'Hour', 'Temperature',\n",
       "       'Temp_Max', 'Temp_Min', 'Daily_Avg_Temp', 'Monthly_Avg_Temp',\n",
       "       'Relative_Temp', 'Dewpoint', 'Humidity', 'Month', 'Weekday',\n",
       "       'Visibility', 'Cloud_Coverage', 'Precipitation_Intensity',\n",
       "       'Precip_Intensity_Max', 'Precip_Intensity_Time', 'Clear', 'Cloudy',\n",
       "       'Rain', 'Fog', 'Snow', 'RainBefore', 'Terrain', 'Land_Use',\n",
       "       'Access_Control', 'Illumination', 'Operation', 'Speed_Limit',\n",
       "       'Thru_Lanes', 'Num_Lanes', 'Ad_Sys', 'Gov_Cont', 'Func_Class', 'AADT',\n",
       "       'DHV', 'Pavement_Width', 'Pavement_Type'],\n",
       "      dtype='object')"
      ]
     },
     "execution_count": 6,
     "metadata": {},
     "output_type": "execute_result"
    }
   ],
   "source": [
    "raw_data.columns"
   ]
  },
  {
   "cell_type": "markdown",
   "metadata": {},
   "source": [
    "For Now we are using the following for different data types:\n",
    "- Accident: the label variable\n",
    "- Latitude and Longitude, City are used to determine the location\n",
    "- Date, Time, Month, weekday are the time indicators\n",
    "- temperature, tempMin, TempMax, Dwe point, clear, cloudy, rain, fog, snow, Daily_Avg_Temp, Monthly_Avg_Temp, Relative_Temp, Dewpoint, Humidity, Visibility, Cloud_Coverage, Precipitation_Intensity, Precip_Intensity_Max, Precip_Intensity_Time, Clear, Cloudy, 'Rain', 'Fog', 'Snow', 'RainBefore'\n",
    "\n",
    "\n",
    "Critiera for data cleansing:\n",
    "- City: drop the float values and and the spaces only strings\n",
    "- \n"
   ]
  },
  {
   "cell_type": "code",
   "execution_count": 30,
   "metadata": {},
   "outputs": [
    {
     "data": {
      "text/plain": [
       "0        -10.0\n",
       "1          1.0\n",
       "2          1.0\n",
       "3          1.0\n",
       "4          1.0\n",
       "5          0.0\n",
       "6          1.0\n",
       "7          1.0\n",
       "8          1.0\n",
       "9        -10.0\n",
       "10       -10.0\n",
       "11         1.0\n",
       "12         1.0\n",
       "13         1.0\n",
       "14         1.0\n",
       "15         1.0\n",
       "16       -10.0\n",
       "17         1.0\n",
       "18         1.0\n",
       "19         0.0\n",
       "20         1.0\n",
       "21         1.0\n",
       "22         1.0\n",
       "23         1.0\n",
       "24         1.0\n",
       "25         1.0\n",
       "26         1.0\n",
       "27         1.0\n",
       "28         1.0\n",
       "29         0.0\n",
       "          ... \n",
       "170085     1.0\n",
       "170086     1.0\n",
       "170087     NaN\n",
       "170088     1.0\n",
       "170089     1.0\n",
       "170090     1.0\n",
       "170091     1.0\n",
       "170092     1.0\n",
       "170093     1.0\n",
       "170094     NaN\n",
       "170095     1.0\n",
       "170096     1.0\n",
       "170097     0.0\n",
       "170098     0.0\n",
       "170099     1.0\n",
       "170100     1.0\n",
       "170101     1.0\n",
       "170102     1.0\n",
       "170103     1.0\n",
       "170104     1.0\n",
       "170105     1.0\n",
       "170106     1.0\n",
       "170107     1.0\n",
       "170108     1.0\n",
       "170109     1.0\n",
       "170110     1.0\n",
       "170111     1.0\n",
       "170112     1.0\n",
       "170113     1.0\n",
       "170114     1.0\n",
       "Name: Illumination, Length: 170115, dtype: float64"
      ]
     },
     "execution_count": 30,
     "metadata": {},
     "output_type": "execute_result"
    }
   ],
   "source": [
    "keep_raws = ['Latitude', 'Longitude', 'City']"
   ]
  },
  {
   "cell_type": "code",
   "execution_count": null,
   "metadata": {},
   "outputs": [],
   "source": []
  }
 ],
 "metadata": {
  "kernelspec": {
   "display_name": "Python 3",
   "language": "python",
   "name": "python3"
  },
  "language_info": {
   "codemirror_mode": {
    "name": "ipython",
    "version": 3
   },
   "file_extension": ".py",
   "mimetype": "text/x-python",
   "name": "python",
   "nbconvert_exporter": "python",
   "pygments_lexer": "ipython3",
   "version": "3.7.1"
  }
 },
 "nbformat": 4,
 "nbformat_minor": 2
}
