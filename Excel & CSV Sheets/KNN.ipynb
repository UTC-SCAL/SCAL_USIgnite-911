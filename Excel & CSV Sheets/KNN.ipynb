{
 "cells": [
  {
   "cell_type": "code",
   "execution_count": 1,
   "metadata": {},
   "outputs": [],
   "source": [
    "import pandas as pd\n",
    "from sklearn.decomposition import PCA\n",
    "import matplotlib.pyplot as plt\n",
    "import numpy as np\n",
    "from sklearn.preprocessing import scale, StandardScaler"
   ]
  },
  {
   "cell_type": "code",
   "execution_count": 2,
   "metadata": {},
   "outputs": [
    {
     "name": "stderr",
     "output_type": "stream",
     "text": [
      "/Users/alnouralharin/anaconda3/lib/python3.7/site-packages/IPython/core/interactiveshell.py:3020: DtypeWarning: Columns (10,26) have mixed types. Specify dtype option on import or set low_memory=False.\n",
      "  interactivity=interactivity, compiler=compiler, result=result)\n"
     ]
    }
   ],
   "source": [
    "data = pd.read_csv(\"Full Data for Model.csv\")\n",
    "raw_data = pd.read_csv(\"Full Data Unix.csv\")"
   ]
  },
  {
   "cell_type": "markdown",
   "metadata": {},
   "source": [
    "For Now we are using the following for different data types:\n",
    "- Accident: the label variable\n",
    "- Latitude and Longitude, City are used to determine the location\n",
    "- Date, Time, Month, weekday are the time indicators\n",
    "- temperature, tempMin, TempMax, Dwe point, clear, cloudy, rain, fog, snow, Daily_Avg_Temp, Monthly_Avg_Temp, Relative_Temp, Dewpoint, Humidity, Visibility, Cloud_Coverage, Precipitation_Intensity, Precip_Intensity_Max, Precip_Intensity_Time, Clear, Cloudy, 'Rain', 'Fog', 'Snow', 'RainBefore', 'Terrain', \n",
    "\n",
    "\n",
    "Critiera for data cleansing:\n",
    "- City: drop the float values and and the spaces only strings\n",
    "- \n"
   ]
  },
  {
   "cell_type": "code",
   "execution_count": 3,
   "metadata": {},
   "outputs": [],
   "source": [
    "keep_raws = ['Log_Mile', 'Hour', 'Temperature', 'Temp_Max', 'Temp_Min',\n",
    "       'Dewpoint', 'Humidity', 'Month', 'Weekday', 'Visibility',\n",
    "       'Cloud_Coverage', 'Precipitation_Intensity', 'Precip_Intensity_Max',\n",
    "       'Clear', 'Cloudy', 'Rain', 'Fog', 'Snow', 'RainBefore', 'Terrain',\n",
    "       'Land_Use', 'Access_Control', 'Operation', 'Thru_Lanes', 'Num_Lanes',\n",
    "       'Ad_Sys', 'Gov_Cont', 'Func_Class', 'Pavement_Width', 'Pavement_Type', 'Latitude', 'Longitude', 'Unix']\n",
    "X = raw_data[keep_raws]\n",
    "Y = raw_data['Accident']\n",
    "X = np.array(X)\n",
    "Y = np.array(Y)\n",
    "non_accidents = X[Y==0]\n",
    "X = X[Y==1]\n",
    "X = StandardScaler().fit_transform(X)\n",
    "np.random.shuffle(X)\n",
    "split_index = int(0.7 * len(X))\n",
    "train, test = X[:split_index], X[split_index:]"
   ]
  },
  {
   "cell_type": "code",
   "execution_count": 4,
   "metadata": {},
   "outputs": [],
   "source": [
    "from sklearn.cluster import KMeans\n",
    "from sklearn import svm"
   ]
  },
  {
   "cell_type": "code",
   "execution_count": 5,
   "metadata": {},
   "outputs": [
    {
     "data": {
      "text/plain": [
       "OneClassSVM(cache_size=200, coef0=0.0, degree=3, gamma=0.1, kernel='rbf',\n",
       "      max_iter=-1, nu=0.1, random_state=None, shrinking=True, tol=0.001,\n",
       "      verbose=False)"
      ]
     },
     "execution_count": 5,
     "metadata": {},
     "output_type": "execute_result"
    }
   ],
   "source": [
    "clf = svm.OneClassSVM(nu=0.1, kernel=\"rbf\", gamma=0.1)\n",
    "clf.fit(train)"
   ]
  },
  {
   "cell_type": "code",
   "execution_count": 6,
   "metadata": {},
   "outputs": [],
   "source": [
    "Y_pred = clf.predict(test)"
   ]
  },
  {
   "cell_type": "code",
   "execution_count": 7,
   "metadata": {},
   "outputs": [],
   "source": [
    "Y_true = [1] * len(Y_pred)"
   ]
  },
  {
   "cell_type": "code",
   "execution_count": 8,
   "metadata": {},
   "outputs": [],
   "source": [
    "from sklearn.metrics import accuracy_score"
   ]
  },
  {
   "cell_type": "code",
   "execution_count": 9,
   "metadata": {},
   "outputs": [
    {
     "data": {
      "text/plain": [
       "0.8781262635014151"
      ]
     },
     "execution_count": 9,
     "metadata": {},
     "output_type": "execute_result"
    }
   ],
   "source": [
    "accuracy_score(Y_pred, Y_true)"
   ]
  },
  {
   "cell_type": "code",
   "execution_count": 10,
   "metadata": {},
   "outputs": [
    {
     "data": {
      "text/plain": [
       "1.0"
      ]
     },
     "execution_count": 10,
     "metadata": {},
     "output_type": "execute_result"
    }
   ],
   "source": [
    "negative_pred = clf.predict(non_accidents)\n",
    "true_neg_pred = [-1]* len(negative_pred)\n",
    "accuracy_score(negative_pred, true_neg_pred)"
   ]
  },
  {
   "cell_type": "code",
   "execution_count": null,
   "metadata": {},
   "outputs": [],
   "source": []
  }
 ],
 "metadata": {
  "kernelspec": {
   "display_name": "Python 3",
   "language": "python",
   "name": "python3"
  },
  "language_info": {
   "codemirror_mode": {
    "name": "ipython",
    "version": 3
   },
   "file_extension": ".py",
   "mimetype": "text/x-python",
   "name": "python",
   "nbconvert_exporter": "python",
   "pygments_lexer": "ipython3",
   "version": "3.7.1"
  }
 },
 "nbformat": 4,
 "nbformat_minor": 2
}
